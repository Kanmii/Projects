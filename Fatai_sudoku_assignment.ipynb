{
  "nbformat": 4,
  "nbformat_minor": 0,
  "metadata": {
    "colab": {
      "provenance": []
    },
    "kernelspec": {
      "name": "python3",
      "display_name": "Python 3"
    },
    "language_info": {
      "name": "python"
    }
  },
  "cells": [
    {
      "cell_type": "markdown",
      "source": [
        "### First 4 x 4 Sudoku Attempt"
      ],
      "metadata": {
        "id": "VxHb4Y6zKoDr"
      }
    },
    {
      "cell_type": "code",
      "execution_count": null,
      "metadata": {
        "id": "qXCMo-bk4IVQ"
      },
      "outputs": [],
      "source": [
        "# A 4x4 Sudoku grid (0 means empty)\n",
        "sudoku = [\n",
        "    [0, 0, 0, 4],\n",
        "    [0, 0, 3, 0],\n",
        "    [0, 1, 0, 0],\n",
        "    [2, 0, 0, 0]\n",
        "]\n",
        "\n",
        "# Show the board\n",
        "for row in sudoku:\n",
        "    print(row)\n",
        "\n",
        "# Ask the user to input a number and a position\n",
        "num = int(input(\"Enter a number (1-4): \"))\n",
        "row = int(input(\"Enter the row (0-3): \"))\n",
        "col = int(input(\"Enter the column (0-3): \"))\n",
        "\n",
        "# Step 1: Check if the cell is already filled\n",
        "if sudoku[row][col] != 0:\n",
        "    print(\"This position has already been taken!\")\n",
        "\n",
        "# Step 2: Check if the number exists in the row\n",
        "elif num in sudoku[row]:\n",
        "    print(\"Row already contains this number!\")\n",
        "\n",
        "# Step 3: Check if the number exists in the column\n",
        "else:\n",
        "    number_in_col = False\n",
        "    for r in range(4):\n",
        "        if sudoku[r][col] == num:\n",
        "            number_in_col = True\n",
        "\n",
        "    if number_in_col:\n",
        "        print(\"Column already contains this number!\")\n",
        "    else:\n",
        "        sudoku[row][col] = num\n",
        "        print(\"Successfully added the number!\")\n",
        "\n",
        "# Show the updated board\n",
        "print(\"\\nUpdated Sudoku:\")\n",
        "for row in sudoku:\n",
        "    print(row)"
      ]
    },
    {
      "cell_type": "markdown",
      "source": [
        "### Second 4 x 4 Sudoku Attempt\n"
      ],
      "metadata": {
        "id": "Jt-oIqzxKwFi"
      }
    },
    {
      "cell_type": "code",
      "source": [
        "# A 4x4 Sudoku grid (0 means empty)\n",
        "sudoku = [\n",
        "    [0, 0, 0, 4],\n",
        "    [0, 0, 3, 0],\n",
        "    [0, 1, 0, 0],\n",
        "    [2, 0, 0, 0]\n",
        "]\n",
        "\n",
        "# Show the board\n",
        "for row in sudoku:\n",
        "    print(row)\n",
        "\n",
        "# Keep prompting the user until a valid move is made or they choose to stop\n",
        "while True:\n",
        "    try:\n",
        "        num = int(input(\"Enter a number (1-4): \"))  # Ask the user to input a number and a position\n",
        "        row = int(input(\"Enter the row (0-3): \"))\n",
        "        col = int(input(\"Enter the column (0-3): \"))\n",
        "\n",
        "        # Step 1: Check if the cell is already filled\n",
        "        if sudoku[row][col] != 0:\n",
        "            print(\"This position has already been taken!\")\n",
        "\n",
        "        # Step 2: Check if the number exists in the row\n",
        "        elif num in sudoku[row]:\n",
        "            print(\"Row already contains this number!\")\n",
        "\n",
        "        # Step 3: Check if the number exists in the column using [r][col]\n",
        "        elif num in [sudoku[r][col] for r in range(4)]:\n",
        "            print(\"Column already contains this number!\")\n",
        "\n",
        "        # Step 4: Place the number\n",
        "        else:\n",
        "            sudoku[row][col] = num\n",
        "            print(\"Successfully added the number!\")\n",
        "\n",
        "        # Show the updated board\n",
        "        print(\"\\nUpdated Sudoku:\")\n",
        "        for row in sudoku:\n",
        "            print(row)\n",
        "\n",
        "        # Ask if the user wants to add another number\n",
        "        again = input(\"Do you want to add another number? (yes/no): \").lower()\n",
        "        if again != \"yes\":\n",
        "            print(\"Goodbye!\")\n",
        "            break\n",
        "\n",
        "    except (ValueError, IndexError):\n",
        "        print(\"Invalid input! Please enter a number (1–4), and row/column values between (0-3).\")\n",
        "    except KeyboardInterrupt:\n",
        "        print(\"\\nProgram interrupted. Goodbye!\")\n",
        "        break"
      ],
      "metadata": {
        "id": "eLtNglOtRVUk"
      },
      "execution_count": null,
      "outputs": []
    }
  ]
}