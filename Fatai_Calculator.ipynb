{
  "nbformat": 4,
  "nbformat_minor": 0,
  "metadata": {
    "colab": {
      "provenance": []
    },
    "kernelspec": {
      "name": "python3",
      "display_name": "Python 3"
    },
    "language_info": {
      "name": "python"
    }
  },
  "cells": [
    {
      "cell_type": "code",
      "source": [
        "# Define a function to perform the calculation based on the operation\n",
        "def calculate(num1, num2, operation):\n",
        "    if operation == \"add\":\n",
        "        result = num1 + num2\n",
        "        print(\"Addition:\", result)\n",
        "    elif operation == \"subtract\":\n",
        "        result = num1 - num2\n",
        "        print(\"Subtraction:\", result)\n",
        "    elif operation == \"multiply\":\n",
        "        result = num1 * num2\n",
        "        print(\"Multiplication:\", result)\n",
        "    elif operation == \"divide\":\n",
        "        # Check for division by zero\n",
        "        if num2 == 0:\n",
        "            print(\"Error: Cannot divide by zero.\")\n",
        "        else:\n",
        "            result = num1 / num2\n",
        "            print(\"Division:\", result)\n",
        "    else:\n",
        "        # Handle invalid operations\n",
        "        print(\"Invalid operation. Please choose add, subtract, multiply, or divide.\")\n",
        "\n",
        "# Print a welcome message with instructions\n",
        "print(\"Welcome! You can enter numbers and choose from these operations: add, subtract, multiply, divide.\")\n",
        "\n",
        "# Start an infinite loop to allow multiple calculations\n",
        "while True:\n",
        "    try:\n",
        "        # Get the first number from user input and convert to float\n",
        "        num1 = float(input(\"Enter first number: \"))\n",
        "\n",
        "        # Get the second number from user input and convert to float\n",
        "        num2 = float(input(\"Enter second number: \"))\n",
        "\n",
        "        # Get the operation from the user and convert it to lowercase for consistency\n",
        "        operation = input(\"Choose operation (add, subtract, multiply, divide): \").lower()\n",
        "\n",
        "        # Call the calculate function with the provided inputs\n",
        "        calculate(num1, num2, operation)\n",
        "\n",
        "        # Ask the user if they want to perform another calculation\n",
        "        again = input(\"Do you want to calculate again? (yes/no): \").lower()\n",
        "\n",
        "        # If the user does not enter 'yes', exit the loop and end the program\n",
        "        if again != \"yes\":\n",
        "            print(\"Goodbye!\")\n",
        "            break\n",
        "\n",
        "    # Handle the error if the user inputs something that cannot be converted to a float\n",
        "    except ValueError:\n",
        "        print(\"Oops! Please enter a valid number.\")\n",
        "\n",
        "    # Handle the situation where the user interrupts the program (e.g., pressing Ctrl+C)\n",
        "    except KeyboardInterrupt:\n",
        "        print(\"\\nProgram interrupted. Goodbye!\")\n",
        "        break"
      ],
      "metadata": {
        "id": "VzHgdQlwYusW"
      },
      "execution_count": null,
      "outputs": []
    }
  ]
}